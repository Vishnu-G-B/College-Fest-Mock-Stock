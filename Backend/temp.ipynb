{
 "cells": [
  {
   "cell_type": "code",
   "execution_count": 2,
   "metadata": {},
   "outputs": [],
   "source": [
    "import pandas as pd"
   ]
  },
  {
   "cell_type": "code",
   "execution_count": 5,
   "metadata": {},
   "outputs": [],
   "source": [
    "df = pd.read_csv(\"data.csv\")"
   ]
  },
  {
   "cell_type": "code",
   "execution_count": null,
   "metadata": {},
   "outputs": [
    {
     "data": {
      "text/plain": [
       "80"
      ]
     },
     "execution_count": 7,
     "metadata": {},
     "output_type": "execute_result"
    }
   ],
   "source": [
    "df['Apple'][1]"
   ]
  },
  {
   "cell_type": "code",
   "execution_count": 11,
   "metadata": {},
   "outputs": [
    {
     "name": "stdout",
     "output_type": "stream",
     "text": [
      "{'Apple': 20, 'Google': 370}\n"
     ]
    }
   ],
   "source": [
    "value = [{'stock_name': 'Apple', 'quantity': 20}, {'stock_name': 'Google', 'quantity': 20}, {'stock_name': 'Google', 'quantity': 20}, {'stock_name': 'Google', 'quantity': 20}, {'stock_name': 'Google', 'quantity': 20}, {'stock_name': 'Google', 'quantity': 20}, {'stock_name': 'Google', 'quantity': 20}, {'stock_name': 'Google', 'quantity': 20}, {'stock_name': 'Google', 'quantity': 20}, {'stock_name': 'Google', 'quantity': 20}, {'stock_name': 'Google', 'quantity': 20}, {'stock_name': 'Google', 'quantity': 20}, {\n",
    "    'stock_name': 'Google', 'quantity': 20}, {'stock_name': 'Google', 'quantity': 20}, {'stock_name': 'Google', 'quantity': 10}, {'stock_name': 'Google', 'quantity': 20}, {'stock_name': 'Google', 'quantity': 20}, {'stock_name': 'Google', 'quantity': 20}, {'stock_name': 'Google', 'quantity': 20}, {'stock_name': 'Google', 'quantity': 20}, {'stock_name': 'Google', 'quantity': 20}, {'stock_name': 'Google', 'quantity': 20}, {'stock_name': 'Google', 'quantity': 20}, {'stock_name': 'Google', 'quantity': 20}]\n",
    "sell_value = [{'stock_name': 'Google', 'quantity': 20}, {'stock_name': 'Google', 'quantity': 20}, {\n",
    "    'stock_name': 'Google', 'quantity': 20}, {'stock_name': 'Google', 'quantity': 20}]\n",
    "dic = {}\n",
    "total_buy = 0\n",
    "for x in value:\n",
    "    if (x[\"stock_name\"] in dic):\n",
    "        dic[x[\"stock_name\"]] += x[\"quantity\"]\n",
    "    else:\n",
    "        dic[x[\"stock_name\"]] = x['quantity']\n",
    "    total_buy += x['quantity']\n",
    "\n",
    "for x in sell_value:\n",
    "    # print(x)\n",
    "    if (x[\"stock_name\"] in dic):\n",
    "        dic[x[\"stock_name\"]] -= x[\"quantity\"]\n",
    "    else:\n",
    "        dic[x[\"stock_name\"]] = x['quantity']\n",
    "\n",
    "print(dic)\n"
   ]
  },
  {
   "cell_type": "code",
   "execution_count": null,
   "metadata": {},
   "outputs": [],
   "source": []
  }
 ],
 "metadata": {
  "kernelspec": {
   "display_name": "env",
   "language": "python",
   "name": "python3"
  },
  "language_info": {
   "codemirror_mode": {
    "name": "ipython",
    "version": 3
   },
   "file_extension": ".py",
   "mimetype": "text/x-python",
   "name": "python",
   "nbconvert_exporter": "python",
   "pygments_lexer": "ipython3",
   "version": "3.11.2"
  },
  "orig_nbformat": 4
 },
 "nbformat": 4,
 "nbformat_minor": 2
}
